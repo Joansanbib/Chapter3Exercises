{
 "cells": [
  {
   "cell_type": "code",
   "execution_count": 2,
   "id": "d7075b81-0203-478d-9fa0-d8c2483e5d1c",
   "metadata": {},
   "outputs": [],
   "source": [
    "import numpy as np\n",
    "import pandas as pd\n",
    "from sklearn.datasets import fetch_openml\n",
    "import scipy.ndimage as scipy\n",
    "from sklearn.neighbors import KNeighborsClassifier\n",
    "from sklearn.model_selection import cross_val_predict\n",
    "from sklearn.model_selection import cross_val_score"
   ]
  },
  {
   "cell_type": "code",
   "execution_count": 3,
   "id": "f6c4c3ac-2b3e-491e-b8ff-1588b5a6f1b1",
   "metadata": {},
   "outputs": [],
   "source": [
    "mnist = fetch_openml('mnist_784', version=1)\n",
    "X = np.array(mnist['data'], dtype=np.float64)\n",
    "y = np.array(mnist['target'], dtype=np.float64)"
   ]
  },
  {
   "cell_type": "code",
   "execution_count": 4,
   "id": "aefbc714-f8de-423e-9393-fe312b85cd7c",
   "metadata": {},
   "outputs": [],
   "source": [
    "X_train, X_test, y_train, y_test = X[:30000], X[30000:], y[:30000], y[30000:]"
   ]
  },
  {
   "cell_type": "code",
   "execution_count": 5,
   "id": "90d6584f-db2b-4d88-a6a2-14c5f6f27396",
   "metadata": {},
   "outputs": [],
   "source": [
    "digit = X_train[0].reshape(28, 28)\n",
    "digit_up = scipy.shift(digit, (-1, 0), cval=0)"
   ]
  },
  {
   "cell_type": "code",
   "execution_count": 6,
   "id": "cfd1fdf3-ebd5-46cf-bc1f-e87a3ed35d6a",
   "metadata": {},
   "outputs": [],
   "source": [
    "model = KNeighborsClassifier(n_neighbors=4, weights='distance')"
   ]
  },
  {
   "cell_type": "code",
   "execution_count": 9,
   "id": "3853cd49-ac77-40aa-b14b-724091c2857f",
   "metadata": {},
   "outputs": [
    {
     "data": {
      "text/plain": [
       "array([0.9614, 0.9626, 0.9589])"
      ]
     },
     "execution_count": 9,
     "metadata": {},
     "output_type": "execute_result"
    }
   ],
   "source": [
    "X_train_copy = X_train.copy()\n",
    "score_before = cross_val_score(model, X_train, y_train, cv=3, scoring='accuracy')\n",
    "score_before"
   ]
  },
  {
   "cell_type": "code",
   "execution_count": 12,
   "id": "384155fa-371d-4457-a83b-a7efcaf465a5",
   "metadata": {},
   "outputs": [],
   "source": [
    "arr_directions = [[-1, 0], [1, 0], [0, -1], [0, 1]]\n",
    "X_augmented = []\n",
    "y_augmented = []\n",
    "\n",
    "for idx, digit in enumerate(X_train):\n",
    "    image = X_train[idx].reshape(28, 28)\n",
    "    for direction in arr_directions:\n",
    "        shifted = (scipy.shift(image, shift=direction, cval=0)).reshape(1, 784)\n",
    "        X_augmented.append(shifted)\n",
    "        y_augmented.append(y_train[idx])\n",
    "\n",
    "X_augmented = np.vstack(X_augmented)\n",
    "y_augmented = np.array(y_augmented)\n",
    "\n",
    "X_train = np.concatenate((X_train, X_augmented), axis=0)\n",
    "y_train = np.concatenate((y_train, y_augmented), axis=0)\n",
    "\n",
    "    #digit_up = scipy.shift(image, (-1, 0), cval=0)\n",
    "    #digit_down = scipy.shift(image, (1, 0), cval=0)\n",
    "    #digit_left = scipy.shift(image, (0, -1), cval=0)"
   ]
  },
  {
   "cell_type": "code",
   "execution_count": 14,
   "id": "2f0d7fc8-ed3f-4cad-9a1f-d7628c13a1b6",
   "metadata": {},
   "outputs": [
    {
     "data": {
      "text/plain": [
       "array([0.9829 , 0.97636, 0.97666])"
      ]
     },
     "execution_count": 14,
     "metadata": {},
     "output_type": "execute_result"
    }
   ],
   "source": [
    "score_after = cross_val_score(model, X_train, y_train, cv=3, scoring='accuracy')\n",
    "score_after"
   ]
  },
  {
   "cell_type": "code",
   "execution_count": null,
   "id": "2bd6c46a-5f25-43af-bd66-a6176cd36d9c",
   "metadata": {},
   "outputs": [],
   "source": []
  }
 ],
 "metadata": {
  "kernelspec": {
   "display_name": "Python 3 (ipykernel)",
   "language": "python",
   "name": "python3"
  },
  "language_info": {
   "codemirror_mode": {
    "name": "ipython",
    "version": 3
   },
   "file_extension": ".py",
   "mimetype": "text/x-python",
   "name": "python",
   "nbconvert_exporter": "python",
   "pygments_lexer": "ipython3",
   "version": "3.12.4"
  }
 },
 "nbformat": 4,
 "nbformat_minor": 5
}
